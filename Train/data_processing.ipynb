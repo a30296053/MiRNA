{
 "cells": [
  {
   "cell_type": "code",
   "execution_count": 2,
   "id": "8a58f5a5-e66b-45a2-ad96-137fe25f007e",
   "metadata": {},
   "outputs": [],
   "source": [
    "import os\n",
    "import re\n",
    "import pickle\n",
    "import numpy as np\n",
    "import pandas as pd\n",
    "from sklearn.model_selection import StratifiedKFold"
   ]
  },
  {
   "cell_type": "code",
   "execution_count": 3,
   "id": "27f1ce8e-8cd5-4b51-a6fc-57a683813670",
   "metadata": {},
   "outputs": [],
   "source": [
    "\n",
    "def data_extract(DeepMirTar_txt, dt='DeepMirTar'):\n",
    "\n",
    "    encode = dict(zip('NAUCG', range(5)))\n",
    "\n",
    "    df = pd.read_csv(DeepMirTar_txt, sep=\"\\t\", header=None)\n",
    "    #print(df.iloc[0])\n",
    "    assert dt in ['DeepMirTar', 'miRaw']\n",
    "    if dt=='DeepMirTar':\n",
    "        df = df.drop(df.index[0]).reset_index(drop=True)\n",
    "\n",
    "    df = df[df[3].str.len()<=40] ## remove 52_samples miRNA are more than 40\n",
    "\n",
    "    max_RNA = max(df[1].str.len().max(), 26)\n",
    "    max_miRNA = max(df[3].str.len().max(), 40)\n",
    "    print(max_RNA, max_miRNA)\n",
    "    \n",
    "    df[1] = [x + 'N'*(max_RNA-len(x)) for x in df[1].tolist()]\n",
    "    df[3] = [x.replace('T','U') + 'N'*(max_miRNA-len(x)) for x in df[3].tolist()]\n",
    "    df[5] = df[1] + df[3]\n",
    "    df['data'] = df[5].apply(lambda x: np.array([encode[a.upper()] for a in x], np.int64))\n",
    "    \n",
    "    DeepMirTar_data = np.stack(df['data'])\n",
    "    DeepMirTar_label = np.stack(df[4])\n",
    "    DeepMirTar_label = np.expand_dims(DeepMirTar_label, -1)\n",
    "    DeepMirTar_label = np.int64(DeepMirTar_label)\n",
    "    return DeepMirTar_data, DeepMirTar_label\n"
   ]
  },
  {
   "cell_type": "code",
   "execution_count": 6,
   "id": "13b737c1-2b65-4ece-832c-86f3758a17f9",
   "metadata": {},
   "outputs": [],
   "source": [
    "\n",
    "def process_data():\n",
    "    skf = StratifiedKFold(n_splits=5, shuffle=True)\n",
    "    data = {}\n",
    "    for dt in ['DeepMirTar', 'miRaw']:\n",
    "        data_txt = 'data/data_miRaw_noL_noMisMissing_remained_seed1122.txt' if dt=='miRaw' else 'data/data_DeepMirTar_removeMisMissing_remained_seed1122.txt'\n",
    "        data_txt_ind = 'data/data_miRaw_noL_noMisMissing_indTest_seed1122_Unique.txt' if dt=='miRaw' else 'data/data_DeepMirTar_test.txt'\n",
    "        \n",
    "        data[dt] = {}\n",
    "        Seq_data, Seq_label = data_extract(data_txt, dt=dt)\n",
    "        for i, (_, fol_index) in enumerate(skf.split(Seq_data, Seq_label)):\n",
    "            data[dt][i] = [Seq_data[fol_index], Seq_label[fol_index]]\n",
    "    \n",
    "        Seq_data_ind, Seq_label_ind = data_extract(data_txt_ind, dt=dt)\n",
    "        data[dt][5] = [Seq_data_ind, Seq_label_ind]\n",
    "    \n",
    "        with open('data_full_0411.pickle', 'wb') as handle:\n",
    "            pickle.dump(data, handle, protocol=pickle.HIGHEST_PROTOCOL)\n",
    "\n",
    "def get_Seq_train(data, data_dt, fol):\n",
    "\n",
    "    idxs = np.arange(4).tolist()\n",
    "    idxs.remove(fol)\n",
    "    \n",
    "    Seq_train = []\n",
    "    Seq_train_label = []\n",
    "    \n",
    "    for i in idxs:\n",
    "        x, y = data[data_dt][i]\n",
    "        Seq_train.append(x)\n",
    "        Seq_train_label.append(y)\n",
    "        \n",
    "    Seq_train = np.concatenate(Seq_train, axis=0)\n",
    "    Seq_train_label = np.concatenate(Seq_train_label, axis=0)\n",
    "    return Seq_train, Seq_train_label\n"
   ]
  },
  {
   "cell_type": "code",
   "execution_count": null,
   "id": "bacc86cf-a2b4-4f18-aef0-75c52dcbbbff",
   "metadata": {},
   "outputs": [
    {
     "name": "stdout",
     "output_type": "stream",
     "text": [
      "(1541, 66) (1541, 1) int64 [[1]\n",
      " [1]]\n",
      "(1541, 66) (1541, 1) int64 [[1]\n",
      " [1]]\n",
      "(4624, 66) [[1]\n",
      " [1]\n",
      " [1]\n",
      " ...\n",
      " [0]\n",
      " [0]\n",
      " [0]] int64 [[1]\n",
      " [1]]\n"
     ]
    },
    {
     "name": "stderr",
     "output_type": "stream",
     "text": [
      "C:\\Users\\a3029\\AppData\\Local\\Temp\\ipykernel_38656\\2320519025.py:5: DeprecationWarning: numpy.core.numeric is deprecated and has been renamed to numpy._core.numeric. The numpy._core namespace contains private NumPy internals and its use is discouraged, as NumPy internals can change without warning in any release. In practice, most real-world usage of numpy.core is to access functionality in the public NumPy API. If that is the case, use the public NumPy API. If not, you are using NumPy internals. If you would still like to access an internal attribute, use numpy._core.numeric._frombuffer.\n",
      "  data= pickle.load(handle)\n"
     ]
    }
   ],
   "source": [
    "# open the data store in pickle\n",
    "def load_data(data_dict, dt, fol):\n",
    "\n",
    "    with open(data_dict, 'rb') as handle:\n",
    "        data= pickle.load(handle)\n",
    "    \n",
    "    if dt == 0:\n",
    "        data_dt = 'miRaw' \n",
    "    elif dt == 1:\n",
    "        data_dt = 'DeepMirTar'\n",
    "    else:\n",
    "        print('incorrect dataset')\n",
    "        assert False\n",
    "    # check the data is correct\n",
    "    assert data_dt in data\n",
    "    # print the data\n",
    "    # for key, value in data.items():\n",
    "    #     print(f\"{key}: {value}\")\n",
    "    Seq_ind, Seq_ind_label = data[data_dt][4]\n",
    "    print(Seq_ind.shape, Seq_ind_label.shape, Seq_ind_label.dtype, Seq_ind_label[:2])\n",
    "    \n",
    "    Seq_val, Seq_val_label = data[data_dt][fol]\n",
    "    print(Seq_val.shape, Seq_val_label.shape, Seq_val_label.dtype, Seq_val_label[:2])\n",
    "    \n",
    "    Seq_train, Seq_train_label = get_Seq_train(data, data_dt, fol)\n",
    "    print(Seq_train.shape, Seq_train_label.shape, Seq_train_label.dtype, Seq_train_label[:2])\n",
    "\n",
    "    return Seq_train, Seq_train_label, Seq_val, Seq_val_label, Seq_ind, Seq_ind_label\n",
    "\n",
    "data_dict = 'data_full_0411.pickle'\n",
    "fol = 3\n",
    "# read 'DeepMirTar'\n",
    "dt = 1\n",
    "\n",
    "Seq_train, Seq_train_label, Seq_val, Seq_val_label, Seq_ind, Seq_ind_label = load_data(data_dict, dt, fol)"
   ]
  },
  {
   "cell_type": "code",
   "execution_count": 12,
   "id": "e0e496f5-4f03-43b4-b9bd-c39a01b7de1c",
   "metadata": {},
   "outputs": [
    {
     "name": "stdout",
     "output_type": "stream",
     "text": [
      "0\n",
      "1\n",
      "2\n",
      "3\n",
      "4\n",
      "5\n"
     ]
    },
    {
     "name": "stderr",
     "output_type": "stream",
     "text": [
      "C:\\Users\\a3029\\AppData\\Local\\Temp\\ipykernel_38656\\1446910064.py:2: DeprecationWarning: numpy.core.numeric is deprecated and has been renamed to numpy._core.numeric. The numpy._core namespace contains private NumPy internals and its use is discouraged, as NumPy internals can change without warning in any release. In practice, most real-world usage of numpy.core is to access functionality in the public NumPy API. If that is the case, use the public NumPy API. If not, you are using NumPy internals. If you would still like to access an internal attribute, use numpy._core.numeric._frombuffer.\n",
      "  data= pickle.load(handle)\n"
     ]
    }
   ],
   "source": [
    "with open(data_dict, 'rb') as handle:\n",
    "    data= pickle.load(handle)\n",
    "\n",
    "for key in data['miRaw']:\n",
    "    print(key)"
   ]
  },
  {
   "cell_type": "code",
   "execution_count": null,
   "id": "880e8b41",
   "metadata": {},
   "outputs": [
    {
     "name": "stdout",
     "output_type": "stream",
     "text": [
      "DeepMiTar_Test:\n",
      "{'Positive': 3908, 'Negative': 3850, 'Number': 7758}\n",
      "miRaw_test:\n",
      "{'Positive': 31660, 'Negative': 30993, 'Number': 62653}\n",
      "miRawln:\n",
      "{'Positive': 929, 'Negative': 890, 'Number': 1819}\n"
     ]
    }
   ],
   "source": [
    "DeepMiTar_Test = 'data/data_DeepMirTar_removeMisMissing_remained_seed1122.txt'\n",
    "DeepMiTarln = 'data/data_DeepMirTar_test.txt'\n",
    "miRaw_test = 'data/data_miRaw_noL_noMisMissing_remained_seed1122.txt'\n",
    "miRawln = 'data/data_miRaw_noL_noMisMissing_indTest_seed1122_Unique.txt'\n",
    "# DeepMiTar_Test\n",
    "DeepMiTar_Test_data = {'Positive': 0, 'Negative': 0, 'Number': 0}\n",
    "with open(DeepMiTar_Test, 'r') as file1:\n",
    "    for line in file1:\n",
    "        row = line.strip().split('\\t')\n",
    "        if row[4] == '1':\n",
    "            DeepMiTar_Test_data['Positive']+=1\n",
    "            DeepMiTar_Test_data['Number']+=1\n",
    "        elif row[4] == '0':\n",
    "            DeepMiTar_Test_data['Negative']+=1\n",
    "            DeepMiTar_Test_data['Number']+=1\n",
    "print(\"DeepMiTar_Test:\")\n",
    "print(DeepMiTar_Test_data)\n",
    "\n",
    "# DeepMiTarln\n",
    "DeepMiTarln_data = {'Positive': 0, 'Negative': 0, 'Number': 0}\n",
    "with open(DeepMiTarln, 'r') as file4:\n",
    "    for line in file1:\n",
    "        row = line.strip().split('\\t')\n",
    "        if row[4] == '1':\n",
    "            DeepMiTarln_data['Positive']+=1\n",
    "            DeepMiTarln_data['Number']+=1\n",
    "        elif row[4] == '0':\n",
    "            DeepMiTarln_data['Negative']+=1\n",
    "            DeepMiTarln_data['Number']+=1\n",
    "print(\"DeepMiTarln:\")\n",
    "print(DeepMiTarln_data)\n",
    "\n",
    "# miRaw_test\n",
    "miRaw_test_data = {'Positive': 0, 'Negative': 0, 'Number': 0}\n",
    "with open(miRaw_test, 'r') as file3:\n",
    "    for line in file3:\n",
    "        row = line.strip().split('\\t')\n",
    "        if row[4] == '1':\n",
    "            miRaw_test_data['Positive']+=1\n",
    "            miRaw_test_data['Number']+=1\n",
    "        elif row[4] == '0':\n",
    "            miRaw_test_data['Negative']+=1\n",
    "            miRaw_test_data['Number']+=1\n",
    "print(\"miRaw_test:\")\n",
    "print(miRaw_test_data)\n",
    "\n",
    "# DeepMiTarln\n",
    "miRawln_data = {'Positive': 0, 'Negative': 0, 'Number': 0}\n",
    "with open(miRawln, 'r') as file2:\n",
    "    for line in file2:\n",
    "        row = line.strip().split('\\t')\n",
    "        if row[4] == '1':\n",
    "            miRawln_data['Positive']+=1\n",
    "            miRawln_data['Number']+=1\n",
    "        elif row[4] == '0':\n",
    "            miRawln_data['Negative']+=1\n",
    "            miRawln_data['Number']+=1\n",
    "print(\"miRawln:\")\n",
    "print(miRawln_data)"
   ]
  }
 ],
 "metadata": {
  "kernelspec": {
   "display_name": "Python 3",
   "language": "python",
   "name": "python3"
  },
  "language_info": {
   "codemirror_mode": {
    "name": "ipython",
    "version": 3
   },
   "file_extension": ".py",
   "mimetype": "text/x-python",
   "name": "python",
   "nbconvert_exporter": "python",
   "pygments_lexer": "ipython3",
   "version": "3.12.6"
  }
 },
 "nbformat": 4,
 "nbformat_minor": 5
}
